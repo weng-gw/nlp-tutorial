{
 "cells": [
  {
   "cell_type": "markdown",
   "metadata": {},
   "source": [
    "# Sentiment Analysis with TF-IDF\n",
    "We will extrac TF-IDF from the text data and use this feature to perform sentiment analysis."
   ]
  },
  {
   "cell_type": "markdown",
   "metadata": {},
   "source": []
  }
 ],
 "metadata": {
  "kernelspec": {
   "display_name": "Python 3.10.6 ('d2l')",
   "language": "python",
   "name": "python3"
  },
  "language_info": {
   "name": "python",
   "version": "3.10.6"
  },
  "orig_nbformat": 4,
  "vscode": {
   "interpreter": {
    "hash": "8bd98c00ad50c8bb0a4a87394933cfa32a0e849627a28945ed85398a5749e862"
   }
  }
 },
 "nbformat": 4,
 "nbformat_minor": 2
}
