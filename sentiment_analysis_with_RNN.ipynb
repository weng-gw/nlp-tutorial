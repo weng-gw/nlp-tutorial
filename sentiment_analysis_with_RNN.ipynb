{
 "cells": [
  {
   "cell_type": "markdown",
   "metadata": {},
   "source": [
    "# Sentiment Analysis\n",
    "We will incorporate the sequential information to do sentiment analysis. This will be realized by adopting the recurrent neural networks (RNN)."
   ]
  },
  {
   "cell_type": "markdown",
   "metadata": {},
   "source": [
    "# Prepare data"
   ]
  },
  {
   "cell_type": "code",
   "execution_count": 31,
   "metadata": {},
   "outputs": [],
   "source": [
    "import numpy as np\n",
    "import pandas as pd"
   ]
  },
  {
   "cell_type": "code",
   "execution_count": 32,
   "metadata": {},
   "outputs": [],
   "source": [
    "train_data_path = \"datasets/twitter_sentiment_analysis/twitter_training.csv\"\n",
    "train_data = pd.read_csv(train_data_path,header=None)\n",
    "train_data.columns = [\"Tweet_ID\",\"entity\",\"sentiment\",\"Tweet_content\"]\n",
    "\n",
    "test_data_path = \"datasets/twitter_sentiment_analysis/twitter_validation.csv\"\n",
    "test_data = pd.read_csv(test_data_path,header=None)\n",
    "test_data.columns = [\"Tweet_ID\",\"entity\",\"sentiment\",\"Tweet_content\"]"
   ]
  },
  {
   "cell_type": "code",
   "execution_count": 33,
   "metadata": {},
   "outputs": [],
   "source": [
    "## Inlcude Only \"Positive\" and \"Negatvie\" twitts to form a binary classification problem\n",
    "## Label Positve as 1 and Negative as 0\n",
    "train_data = train_data[train_data.sentiment.isin([\"Positive\",\"Negative\"])]\n",
    "train_data[\"label\"] = train_data.sentiment.map({\"Positive\":1, \"Negative\":0})\n",
    "test_data = test_data[test_data.sentiment.isin([\"Positive\",\"Negative\"])]\n",
    "test_data[\"label\"] = test_data.sentiment.map({\"Positive\":1, \"Negative\":0})"
   ]
  },
  {
   "cell_type": "markdown",
   "metadata": {},
   "source": [
    "## Prepare data processing pipeline"
   ]
  },
  {
   "cell_type": "code",
   "execution_count": 34,
   "metadata": {},
   "outputs": [],
   "source": [
    "import torch\n",
    "from torch.utils.data import DataLoader\n",
    "from torchtext.data.utils import get_tokenizer\n",
    "from torchtext.vocab import build_vocab_from_iterator\n",
    "from torchtext.transforms import VocabTransform, ToTensor\n",
    "\n",
    "#device = torch.device(\"mps\") if torch.backends.mps.is_available() else torch.device(\"cpu\")  ## Only works on M-Series Mac\n",
    "device = torch.device(\"cpu\")"
   ]
  },
  {
   "cell_type": "code",
   "execution_count": 35,
   "metadata": {},
   "outputs": [],
   "source": [
    "class TwitterDataset:\n",
    "    def __init__(self, texts, label):\n",
    "        self.texts = texts\n",
    "        self.label = label\n",
    "\n",
    "    def __len__(self):\n",
    "        return len(self.label)\n",
    "    def __getitem__(self, idx):\n",
    "        return self.texts[idx], self.label[idx]\n",
    "\n",
    "train_dataset = TwitterDataset(train_data['Tweet_content'].map(str).values,train_data[\"label\"].values)\n",
    "test_dataset = TwitterDataset(test_data['Tweet_content'].map(str).values,test_data[\"label\"].values)"
   ]
  },
  {
   "cell_type": "code",
   "execution_count": 36,
   "metadata": {},
   "outputs": [],
   "source": [
    "tokenizer = get_tokenizer(\"basic_english\")\n",
    "def yield_tokens(data_iter):\n",
    "    for text in data_iter:\n",
    "        yield tokenizer(text)\n",
    "vocab = build_vocab_from_iterator(yield_tokens(train_data[\"Tweet_content\"].map(str)), specials=[\"<unk>\", \"<pad>\"])\n",
    "vocab.set_default_index(vocab[\"<unk>\"])\n",
    "totensor = ToTensor(padding_value=vocab[\"<pad>\"])"
   ]
  },
  {
   "cell_type": "code",
   "execution_count": 37,
   "metadata": {},
   "outputs": [],
   "source": [
    "## We redefine the collate function so that it will do dynamic padding\n",
    "def collate_batch(batch):\n",
    "    label_list, text_list = [], []\n",
    "    for  _text, _label in batch:\n",
    "        label_list.append(_label)\n",
    "        processed_text = vocab(tokenizer(_text))\n",
    "        text_list.append(processed_text)\n",
    "    label_list = torch.tensor(label_list,dtype=torch.int64)\n",
    "    text_list=  totensor(text_list)\n",
    "    return  text_list, label_list\n",
    "\n",
    "batch_size = 32\n",
    "train_dataloader = DataLoader(train_dataset, batch_size = batch_size, shuffle=True, collate_fn = collate_batch)\n",
    "test_dataloader = DataLoader(test_dataset, batch_size = batch_size, shuffle=False, collate_fn = collate_batch)"
   ]
  },
  {
   "cell_type": "code",
   "execution_count": 38,
   "metadata": {},
   "outputs": [
    {
     "name": "stdout",
     "output_type": "stream",
     "text": [
      "torch.Size([32, 53])\n",
      "torch.Size([32])\n"
     ]
    }
   ],
   "source": [
    "X, y = next(iter(train_dataloader))\n",
    "print(X.shape)\n",
    "print(y.shape)"
   ]
  },
  {
   "cell_type": "markdown",
   "metadata": {},
   "source": [
    "# Create Model"
   ]
  },
  {
   "cell_type": "code",
   "execution_count": 39,
   "metadata": {},
   "outputs": [],
   "source": [
    "from torch import nn"
   ]
  },
  {
   "cell_type": "code",
   "execution_count": 43,
   "metadata": {},
   "outputs": [],
   "source": [
    "embedding = nn.Embedding(len(vocab),64, padding_idx=vocab[\"<pad>\"])\n",
    "rnn = nn.RNN(64, 64, batch_first=True)\n"
   ]
  },
  {
   "cell_type": "code",
   "execution_count": 49,
   "metadata": {},
   "outputs": [
    {
     "name": "stdout",
     "output_type": "stream",
     "text": [
      "torch.Size([32, 53, 64])\n",
      "torch.Size([32, 53, 64])\n",
      "torch.Size([1, 32, 64])\n"
     ]
    }
   ],
   "source": [
    "X_embeded = embedding(X)\n",
    "print(X_embeded.size())\n",
    "out, h = rnn(X_embeded)\n",
    "print(out.size())\n",
    "print(h.size())"
   ]
  },
  {
   "cell_type": "code",
   "execution_count": 51,
   "metadata": {},
   "outputs": [
    {
     "data": {
      "text/plain": [
       "torch.Size([32, 64])"
      ]
     },
     "execution_count": 51,
     "metadata": {},
     "output_type": "execute_result"
    }
   ],
   "source": [
    "out[:,-1,:].size()"
   ]
  },
  {
   "cell_type": "code",
   "execution_count": 68,
   "metadata": {},
   "outputs": [
    {
     "data": {
      "text/plain": [
       "torch.Size([32, 53])"
      ]
     },
     "execution_count": 68,
     "metadata": {},
     "output_type": "execute_result"
    }
   ],
   "source": [
    "X.shape"
   ]
  },
  {
   "cell_type": "code",
   "execution_count": 101,
   "metadata": {},
   "outputs": [],
   "source": [
    "class RNNClassifier(nn.Module):\n",
    "    def __init__(self,vocab_size, embed_dim, hidden_size, num_layers=1, num_class=2):\n",
    "        super(RNNClassifier,self).__init__()\n",
    "        self.hidden_size = hidden_size\n",
    "        self.embedding = nn.Embedding(vocab_size, embed_dim)#, padding_idx = padding_idx)\n",
    "        self.rnn = nn.RNN(input_size = embed_dim, hidden_size = hidden_size, num_layers = num_layers, bidirectional = True, batch_first = True)\n",
    "        self.fc = nn.Linear(2*hidden_size, num_class)\n",
    "    \n",
    "    def forward(self, x):\n",
    "        embeded = self.embedding(x)\n",
    "        out, h = self.rnn(embeded)\n",
    "        last_out = torch.cat([out[:,-1,:self.hidden_size],out[:,0,self.hidden_size:]],1)\n",
    "        return self.fc(last_out)\n"
   ]
  },
  {
   "cell_type": "code",
   "execution_count": 102,
   "metadata": {},
   "outputs": [],
   "source": [
    "model = RNNClassifier(len(vocab), 50, 50).to(device)"
   ]
  },
  {
   "cell_type": "code",
   "execution_count": 103,
   "metadata": {},
   "outputs": [
    {
     "data": {
      "text/plain": [
       "tensor([[ 0.3770,  0.0671],\n",
       "        [ 0.4562, -0.0643],\n",
       "        [ 0.1653, -0.1817],\n",
       "        [-0.1681,  0.2097],\n",
       "        [ 0.1134,  0.0804],\n",
       "        [-0.0048, -0.3137],\n",
       "        [ 0.2154,  0.0781],\n",
       "        [-0.1206,  0.2077],\n",
       "        [ 0.2965,  0.3851],\n",
       "        [ 0.2142, -0.1757],\n",
       "        [ 0.4296,  0.4270],\n",
       "        [ 0.1423, -0.1823],\n",
       "        [ 0.1370,  0.1301],\n",
       "        [-0.1808, -0.2075],\n",
       "        [ 0.1392, -0.2321],\n",
       "        [ 0.4007,  0.3022],\n",
       "        [ 0.4129,  0.3271],\n",
       "        [-0.0824,  0.0921],\n",
       "        [-0.0237,  0.2510],\n",
       "        [-0.0277, -0.0968],\n",
       "        [ 0.1981,  0.3207],\n",
       "        [ 0.2888,  0.1027],\n",
       "        [ 0.1601,  0.2366],\n",
       "        [ 0.2859,  0.5328],\n",
       "        [ 0.1161,  0.2492],\n",
       "        [ 0.3025,  0.2953],\n",
       "        [ 0.4121,  0.2291],\n",
       "        [ 0.1557, -0.0648],\n",
       "        [ 0.1290, -0.0882],\n",
       "        [ 0.0840,  0.3903],\n",
       "        [ 0.3541, -0.0856],\n",
       "        [-0.0587,  0.3592]], grad_fn=<AddmmBackward0>)"
      ]
     },
     "execution_count": 103,
     "metadata": {},
     "output_type": "execute_result"
    }
   ],
   "source": [
    "model(X)"
   ]
  },
  {
   "cell_type": "code",
   "execution_count": 93,
   "metadata": {},
   "outputs": [],
   "source": [
    "out, h=model.rnn(model.embedding(X))"
   ]
  },
  {
   "cell_type": "code",
   "execution_count": 97,
   "metadata": {},
   "outputs": [
    {
     "data": {
      "text/plain": [
       "tensor([[ 0.5667, -0.1960, -0.1890,  ..., -0.1727,  0.6085,  0.7286],\n",
       "        [-0.5245,  0.5047, -0.2435,  ...,  0.3505, -0.2806,  0.7301],\n",
       "        [-0.6323,  0.6543,  0.0531,  ..., -0.0101, -0.0350,  0.1806],\n",
       "        ...,\n",
       "        [ 0.1501, -0.6010, -0.6283,  ...,  0.0503,  0.6643,  0.1472],\n",
       "        [-0.0785,  0.1759,  0.7491,  ..., -0.2248, -0.8514,  0.2855],\n",
       "        [ 0.0837,  0.7609,  0.3100,  ...,  0.4098,  0.6401, -0.3209]],\n",
       "       grad_fn=<SelectBackward0>)"
      ]
     },
     "execution_count": 97,
     "metadata": {},
     "output_type": "execute_result"
    }
   ],
   "source": [
    "last_out = out[:,1]\n",
    "last_out"
   ]
  },
  {
   "cell_type": "markdown",
   "metadata": {},
   "source": [
    "# Training"
   ]
  },
  {
   "cell_type": "code",
   "execution_count": 104,
   "metadata": {},
   "outputs": [],
   "source": [
    "def train(dataloader, model, loss_fn, optimizer, print_per_batches=200):\n",
    "    size = len(dataloader.dataset)\n",
    "    model.train()\n",
    "    for batch, (X, y) in enumerate(dataloader):\n",
    "        X, y  = X.to(device), y.to(device)\n",
    "\n",
    "        pred = model(X)\n",
    "        loss = loss_fn(pred,y)\n",
    "\n",
    "        optimizer.zero_grad()\n",
    "        loss.backward()\n",
    "        optimizer.step()\n",
    "\n",
    "        if batch % print_per_batches ==0:\n",
    "            loss, current = loss.item(), batch*len(X)\n",
    "            print(f\"loss: {loss:>7f}  [{current:>5d}/{size:>5d}]\")\n",
    "\n",
    "def test(dataloader, model, loss_fn):\n",
    "    size = len(dataloader.dataset)\n",
    "    num_batches = len(dataloader)\n",
    "    model.eval()\n",
    "    test_loss, correct = 0, 0\n",
    "    with torch.no_grad():\n",
    "        for batch, (X, y) in enumerate(dataloader):\n",
    "            X, y = X.to(device), y.to(device)\n",
    "            pred = model(X)\n",
    "            loss = loss_fn(pred,y)\n",
    "            test_loss += loss.item()\n",
    "            correct += (pred.argmax(1) == y).type(torch.float).sum().item()\n",
    "    test_loss /= num_batches\n",
    "    correct /= size\n",
    "    print(f\"Test Error: \\n Accuracy: {(100*correct):>0.1f}%, Avg loss: {test_loss:>8f} \\n\")\n",
    "    \n",
    "\n",
    "loss_fn = nn.CrossEntropyLoss()\n",
    "optimizer = torch.optim.Adam(model.parameters(), lr = 1e-3)"
   ]
  },
  {
   "cell_type": "code",
   "execution_count": 105,
   "metadata": {},
   "outputs": [],
   "source": [
    "out = model(X.to(device))\n",
    "loss = loss_fn(out,y.to(device))\n",
    "optimizer.zero_grad()\n",
    "loss.backward()\n",
    "optimizer.step()"
   ]
  },
  {
   "cell_type": "code",
   "execution_count": 106,
   "metadata": {},
   "outputs": [
    {
     "name": "stdout",
     "output_type": "stream",
     "text": [
      "Epoch 1\n",
      "-------------------------------\n",
      "loss: 0.686592  [    0/43374]\n"
     ]
    },
    {
     "name": "stderr",
     "output_type": "stream",
     "text": [
      "/opt/homebrew/Caskroom/miniforge/base/envs/nlp/lib/python3.10/site-packages/torch/_jit_internal.py:1138: UserWarning: The inner type of a container is lost when calling torch.jit.isinstance in eager mode. For example, List[int] would become list and therefore falsely return True for List[float] or List[str].\n",
      "  warnings.warn(\"The inner type of a container is lost when \"\n"
     ]
    },
    {
     "name": "stdout",
     "output_type": "stream",
     "text": [
      "loss: 0.649093  [ 6400/43374]\n",
      "loss: 0.504311  [12800/43374]\n",
      "loss: 0.384988  [19200/43374]\n",
      "loss: 0.495392  [25600/43374]\n",
      "loss: 0.362439  [32000/43374]\n",
      "loss: 0.553041  [38400/43374]\n",
      "Test Error: \n",
      " Accuracy: 85.8%, Avg loss: 0.342222 \n",
      "\n",
      "Epoch 2\n",
      "-------------------------------\n",
      "loss: 0.375411  [    0/43374]\n",
      "loss: 0.443304  [ 6400/43374]\n",
      "loss: 0.236797  [12800/43374]\n",
      "loss: 0.517483  [19200/43374]\n",
      "loss: 0.407685  [25600/43374]\n",
      "loss: 0.530804  [32000/43374]\n",
      "loss: 0.425254  [38400/43374]\n",
      "Test Error: \n",
      " Accuracy: 92.6%, Avg loss: 0.188746 \n",
      "\n",
      "Epoch 3\n",
      "-------------------------------\n",
      "loss: 0.188607  [    0/43374]\n",
      "loss: 0.197598  [ 6400/43374]\n",
      "loss: 0.310955  [12800/43374]\n",
      "loss: 0.315216  [19200/43374]\n",
      "loss: 0.394037  [25600/43374]\n",
      "loss: 0.133170  [32000/43374]\n",
      "loss: 0.169238  [38400/43374]\n",
      "Test Error: \n",
      " Accuracy: 96.3%, Avg loss: 0.133513 \n",
      "\n",
      "Epoch 4\n",
      "-------------------------------\n",
      "loss: 0.183419  [    0/43374]\n",
      "loss: 0.157808  [ 6400/43374]\n",
      "loss: 0.473493  [12800/43374]\n",
      "loss: 0.132162  [19200/43374]\n",
      "loss: 0.290603  [25600/43374]\n",
      "loss: 0.167012  [32000/43374]\n",
      "loss: 0.156761  [38400/43374]\n",
      "Test Error: \n",
      " Accuracy: 96.1%, Avg loss: 0.106700 \n",
      "\n",
      "Epoch 5\n",
      "-------------------------------\n",
      "loss: 0.130278  [    0/43374]\n",
      "loss: 0.145796  [ 6400/43374]\n",
      "loss: 0.252343  [12800/43374]\n",
      "loss: 0.097368  [19200/43374]\n",
      "loss: 0.114113  [25600/43374]\n",
      "loss: 0.125149  [32000/43374]\n",
      "loss: 0.195475  [38400/43374]\n",
      "Test Error: \n",
      " Accuracy: 97.2%, Avg loss: 0.092972 \n",
      "\n",
      "Done!\n"
     ]
    }
   ],
   "source": [
    "epochs = 5\n",
    "for t in range(epochs):\n",
    "    print(f\"Epoch {t+1}\\n-------------------------------\")\n",
    "    train(train_dataloader, model, loss_fn, optimizer)\n",
    "    test(test_dataloader, model, loss_fn)\n",
    "print(\"Done!\") "
   ]
  },
  {
   "cell_type": "code",
   "execution_count": null,
   "metadata": {},
   "outputs": [],
   "source": []
  }
 ],
 "metadata": {
  "kernelspec": {
   "display_name": "Python 3.10.6 ('nlp')",
   "language": "python",
   "name": "python3"
  },
  "language_info": {
   "codemirror_mode": {
    "name": "ipython",
    "version": 3
   },
   "file_extension": ".py",
   "mimetype": "text/x-python",
   "name": "python",
   "nbconvert_exporter": "python",
   "pygments_lexer": "ipython3",
   "version": "3.10.6"
  },
  "orig_nbformat": 4,
  "vscode": {
   "interpreter": {
    "hash": "0638b84c441d23f3bf1e5bbb68dbbbae5f508c99744b50e7a508082753ac4090"
   }
  }
 },
 "nbformat": 4,
 "nbformat_minor": 2
}
