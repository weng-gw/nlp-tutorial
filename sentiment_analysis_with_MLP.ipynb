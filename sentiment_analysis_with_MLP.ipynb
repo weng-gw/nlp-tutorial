{
 "cells": [
  {
   "cell_type": "markdown",
   "metadata": {},
   "source": [
    "# Sentiment Analysis with Multilayer Perceptrons\n",
    "We will apply the vanilla Neural Network (MLP) to perform sentiment analysis. Since we are not using any NLP specific model structures, we will have to perform feature engineering for the text data. We will use TF-IDF as input for the model."
   ]
  },
  {
   "cell_type": "markdown",
   "metadata": {},
   "source": [
    "# Prepare data"
   ]
  },
  {
   "cell_type": "code",
   "execution_count": 1,
   "metadata": {},
   "outputs": [],
   "source": [
    "import numpy as np\n",
    "import pandas as pd\n",
    "from sklearn.feature_extraction.text import TfidfVectorizer"
   ]
  },
  {
   "cell_type": "code",
   "execution_count": 2,
   "metadata": {},
   "outputs": [],
   "source": [
    "train_data_path = \"datasets/twitter_sentiment_analysis/twitter_training.csv\"\n",
    "train_data = pd.read_csv(train_data_path,header=None)\n",
    "train_data.columns = [\"Tweet_ID\",\"entity\",\"sentiment\",\"Tweet_content\"]\n",
    "\n",
    "test_data_path = \"datasets/twitter_sentiment_analysis/twitter_validation.csv\"\n",
    "test_data = pd.read_csv(test_data_path,header=None)\n",
    "test_data.columns = [\"Tweet_ID\",\"entity\",\"sentiment\",\"Tweet_content\"]"
   ]
  },
  {
   "cell_type": "code",
   "execution_count": 3,
   "metadata": {},
   "outputs": [],
   "source": [
    "## Inlcude Only \"Positive\" and \"Negatvie\" twitts to form a binary classification problem\n",
    "## Label Positve as 1 and Negative as 0\n",
    "train_data = train_data[train_data.sentiment.isin([\"Positive\",\"Negative\"])]\n",
    "train_data[\"label\"] = train_data.sentiment.map({\"Positive\":1, \"Negative\":0})\n",
    "test_data = test_data[test_data.sentiment.isin([\"Positive\",\"Negative\"])]\n",
    "test_data[\"label\"] = test_data.sentiment.map({\"Positive\":1, \"Negative\":0})"
   ]
  },
  {
   "cell_type": "markdown",
   "metadata": {},
   "source": [
    "## Calculating TF-IDF"
   ]
  },
  {
   "cell_type": "code",
   "execution_count": 4,
   "metadata": {},
   "outputs": [
    {
     "data": {
      "text/html": [
       "<style>#sk-container-id-1 {color: black;background-color: white;}#sk-container-id-1 pre{padding: 0;}#sk-container-id-1 div.sk-toggleable {background-color: white;}#sk-container-id-1 label.sk-toggleable__label {cursor: pointer;display: block;width: 100%;margin-bottom: 0;padding: 0.3em;box-sizing: border-box;text-align: center;}#sk-container-id-1 label.sk-toggleable__label-arrow:before {content: \"▸\";float: left;margin-right: 0.25em;color: #696969;}#sk-container-id-1 label.sk-toggleable__label-arrow:hover:before {color: black;}#sk-container-id-1 div.sk-estimator:hover label.sk-toggleable__label-arrow:before {color: black;}#sk-container-id-1 div.sk-toggleable__content {max-height: 0;max-width: 0;overflow: hidden;text-align: left;background-color: #f0f8ff;}#sk-container-id-1 div.sk-toggleable__content pre {margin: 0.2em;color: black;border-radius: 0.25em;background-color: #f0f8ff;}#sk-container-id-1 input.sk-toggleable__control:checked~div.sk-toggleable__content {max-height: 200px;max-width: 100%;overflow: auto;}#sk-container-id-1 input.sk-toggleable__control:checked~label.sk-toggleable__label-arrow:before {content: \"▾\";}#sk-container-id-1 div.sk-estimator input.sk-toggleable__control:checked~label.sk-toggleable__label {background-color: #d4ebff;}#sk-container-id-1 div.sk-label input.sk-toggleable__control:checked~label.sk-toggleable__label {background-color: #d4ebff;}#sk-container-id-1 input.sk-hidden--visually {border: 0;clip: rect(1px 1px 1px 1px);clip: rect(1px, 1px, 1px, 1px);height: 1px;margin: -1px;overflow: hidden;padding: 0;position: absolute;width: 1px;}#sk-container-id-1 div.sk-estimator {font-family: monospace;background-color: #f0f8ff;border: 1px dotted black;border-radius: 0.25em;box-sizing: border-box;margin-bottom: 0.5em;}#sk-container-id-1 div.sk-estimator:hover {background-color: #d4ebff;}#sk-container-id-1 div.sk-parallel-item::after {content: \"\";width: 100%;border-bottom: 1px solid gray;flex-grow: 1;}#sk-container-id-1 div.sk-label:hover label.sk-toggleable__label {background-color: #d4ebff;}#sk-container-id-1 div.sk-serial::before {content: \"\";position: absolute;border-left: 1px solid gray;box-sizing: border-box;top: 0;bottom: 0;left: 50%;z-index: 0;}#sk-container-id-1 div.sk-serial {display: flex;flex-direction: column;align-items: center;background-color: white;padding-right: 0.2em;padding-left: 0.2em;position: relative;}#sk-container-id-1 div.sk-item {position: relative;z-index: 1;}#sk-container-id-1 div.sk-parallel {display: flex;align-items: stretch;justify-content: center;background-color: white;position: relative;}#sk-container-id-1 div.sk-item::before, #sk-container-id-1 div.sk-parallel-item::before {content: \"\";position: absolute;border-left: 1px solid gray;box-sizing: border-box;top: 0;bottom: 0;left: 50%;z-index: -1;}#sk-container-id-1 div.sk-parallel-item {display: flex;flex-direction: column;z-index: 1;position: relative;background-color: white;}#sk-container-id-1 div.sk-parallel-item:first-child::after {align-self: flex-end;width: 50%;}#sk-container-id-1 div.sk-parallel-item:last-child::after {align-self: flex-start;width: 50%;}#sk-container-id-1 div.sk-parallel-item:only-child::after {width: 0;}#sk-container-id-1 div.sk-dashed-wrapped {border: 1px dashed gray;margin: 0 0.4em 0.5em 0.4em;box-sizing: border-box;padding-bottom: 0.4em;background-color: white;}#sk-container-id-1 div.sk-label label {font-family: monospace;font-weight: bold;display: inline-block;line-height: 1.2em;}#sk-container-id-1 div.sk-label-container {text-align: center;}#sk-container-id-1 div.sk-container {/* jupyter's `normalize.less` sets `[hidden] { display: none; }` but bootstrap.min.css set `[hidden] { display: none !important; }` so we also need the `!important` here to be able to override the default hidden behavior on the sphinx rendered scikit-learn.org. See: https://github.com/scikit-learn/scikit-learn/issues/21755 */display: inline-block !important;position: relative;}#sk-container-id-1 div.sk-text-repr-fallback {display: none;}</style><div id=\"sk-container-id-1\" class=\"sk-top-container\"><div class=\"sk-text-repr-fallback\"><pre>TfidfVectorizer(max_features=5000, stop_words=&#x27;english&#x27;)</pre><b>In a Jupyter environment, please rerun this cell to show the HTML representation or trust the notebook. <br />On GitHub, the HTML representation is unable to render, please try loading this page with nbviewer.org.</b></div><div class=\"sk-container\" hidden><div class=\"sk-item\"><div class=\"sk-estimator sk-toggleable\"><input class=\"sk-toggleable__control sk-hidden--visually\" id=\"sk-estimator-id-1\" type=\"checkbox\" checked><label for=\"sk-estimator-id-1\" class=\"sk-toggleable__label sk-toggleable__label-arrow\">TfidfVectorizer</label><div class=\"sk-toggleable__content\"><pre>TfidfVectorizer(max_features=5000, stop_words=&#x27;english&#x27;)</pre></div></div></div></div></div>"
      ],
      "text/plain": [
       "TfidfVectorizer(max_features=5000, stop_words='english')"
      ]
     },
     "execution_count": 4,
     "metadata": {},
     "output_type": "execute_result"
    }
   ],
   "source": [
    "vectorizer = TfidfVectorizer(stop_words='english',max_features=5000) ## For simplicity we restrict to only 5000 features\n",
    "vectorizer.fit(train_data.Tweet_content.apply(str).tolist()+test_data.Tweet_content.apply(str).tolist())"
   ]
  },
  {
   "cell_type": "code",
   "execution_count": 36,
   "metadata": {},
   "outputs": [],
   "source": [
    "train_tfidf = vectorizer.transform(train_data.Tweet_content.apply(str)).todense()#.toarray().astype(\"float32\")\n",
    "test_tfidf = vectorizer.transform(test_data.Tweet_content.apply(str)).todense()#.toarray().astype(\"float32\")"
   ]
  },
  {
   "cell_type": "code",
   "execution_count": 37,
   "metadata": {},
   "outputs": [
    {
     "data": {
      "text/plain": [
       "matrix([[0., 0., 0., ..., 0., 0., 0.],\n",
       "        [0., 0., 0., ..., 0., 0., 0.],\n",
       "        [0., 0., 0., ..., 0., 0., 0.],\n",
       "        ...,\n",
       "        [0., 0., 0., ..., 0., 0., 0.],\n",
       "        [0., 0., 0., ..., 0., 0., 0.],\n",
       "        [0., 0., 0., ..., 0., 0., 0.]])"
      ]
     },
     "execution_count": 37,
     "metadata": {},
     "output_type": "execute_result"
    }
   ],
   "source": [
    "train_tfidf"
   ]
  },
  {
   "cell_type": "markdown",
   "metadata": {},
   "source": [
    "# Building MLP with torch"
   ]
  },
  {
   "cell_type": "markdown",
   "metadata": {},
   "source": [
    "## Create dataloader"
   ]
  },
  {
   "cell_type": "code",
   "execution_count": 38,
   "metadata": {},
   "outputs": [],
   "source": [
    "import torch\n",
    "from torch.utils.data import Dataset\n",
    "from torch.utils.data import DataLoader"
   ]
  },
  {
   "cell_type": "code",
   "execution_count": 50,
   "metadata": {},
   "outputs": [],
   "source": [
    "class CustomDataset(Dataset):\n",
    "    def __init__(self, X, y):\n",
    "        self.X = torch.tensor(X, dtype=torch.float32)\n",
    "        self.y = torch.tensor(y, dtype=torch.int)\n",
    "\n",
    "    def __len__(self):\n",
    "        return self.X.shape[0]\n",
    "    \n",
    "    def __getitem__(self,idx):\n",
    "        return self.X[idx,], self.y[idx]"
   ]
  },
  {
   "cell_type": "code",
   "execution_count": 51,
   "metadata": {},
   "outputs": [
    {
     "name": "stdout",
     "output_type": "stream",
     "text": [
      "tensor([0., 0., 0.,  ..., 0., 0., 0.])\n",
      "tensor(1, dtype=torch.int32)\n"
     ]
    }
   ],
   "source": [
    "train_dataset = CustomDataset(train_tfidf,train_data.label.values)\n",
    "test_dataset = CustomDataset(test_tfidf,test_data.label.values)\n",
    "x, y = train_dataset[0]\n",
    "print(x)\n",
    "print(y)"
   ]
  },
  {
   "cell_type": "code",
   "execution_count": 52,
   "metadata": {},
   "outputs": [],
   "source": [
    "batch_size = 100\n",
    "train_dataloader = DataLoader(train_dataset, batch_size = batch_size)\n",
    "test_dataloader = DataLoader(test_dataset, batch_size = batch_size)"
   ]
  },
  {
   "cell_type": "code",
   "execution_count": 53,
   "metadata": {},
   "outputs": [
    {
     "name": "stdout",
     "output_type": "stream",
     "text": [
      "torch.Size([100, 5000])\n",
      "torch.Size([100])\n"
     ]
    }
   ],
   "source": [
    "for x, y in train_dataloader:\n",
    "    print(x.shape)\n",
    "    print(y.shape)\n",
    "    break"
   ]
  },
  {
   "cell_type": "markdown",
   "metadata": {},
   "source": [
    "## Creating model"
   ]
  },
  {
   "cell_type": "code",
   "execution_count": 54,
   "metadata": {},
   "outputs": [],
   "source": [
    "from torch import nn"
   ]
  },
  {
   "cell_type": "code",
   "execution_count": 55,
   "metadata": {},
   "outputs": [],
   "source": [
    "## We define a MLP with 3 layers\n",
    "class MLP(nn.Module):\n",
    "    def __init__(self):\n",
    "        super().__init__()\n",
    "        self.net = nn.Sequential(\n",
    "            nn.LazyLinear(100),\n",
    "            nn.ReLU(),\n",
    "            nn.LazyLinear(100),\n",
    "            nn.ReLU(),\n",
    "            nn.LazyLinear(2)\n",
    "        )\n",
    "    def forward(self,x):\n",
    "        return self.net(x)"
   ]
  },
  {
   "cell_type": "code",
   "execution_count": 56,
   "metadata": {},
   "outputs": [
    {
     "name": "stdout",
     "output_type": "stream",
     "text": [
      "Using mps device\n"
     ]
    }
   ],
   "source": [
    "## Use it if on a device with NVIDIA graphical card\n",
    "## device = \"cuda\" if torch.cuda.is_available() else \"cpu\"  \n",
    "device = torch.device(\"mps\") if torch.backends.mps.is_available() else torch.device(\"cpu\")  ## Only works on M-Series Mac\n",
    "print(f\"Using {device} device\")"
   ]
  },
  {
   "cell_type": "code",
   "execution_count": 57,
   "metadata": {},
   "outputs": [
    {
     "name": "stdout",
     "output_type": "stream",
     "text": [
      "MLP(\n",
      "  (net): Sequential(\n",
      "    (0): LazyLinear(in_features=0, out_features=100, bias=True)\n",
      "    (1): ReLU()\n",
      "    (2): LazyLinear(in_features=0, out_features=100, bias=True)\n",
      "    (3): ReLU()\n",
      "    (4): LazyLinear(in_features=0, out_features=2, bias=True)\n",
      "  )\n",
      ")\n"
     ]
    }
   ],
   "source": [
    "model = MLP().to(device)\n",
    "print(model)"
   ]
  },
  {
   "cell_type": "markdown",
   "metadata": {},
   "source": [
    "## Create Training step"
   ]
  },
  {
   "cell_type": "code",
   "execution_count": 58,
   "metadata": {},
   "outputs": [],
   "source": [
    "def train(dataloader, model, loss_fn, optimizer, print_per_batches=50):\n",
    "    size = len(dataloader.dataset)\n",
    "    model.train()\n",
    "    for batch, (X,y) in enumerate(dataloader):\n",
    "        X, y = X.to(device), y.to(device)\n",
    "\n",
    "        pred = model(X)\n",
    "        loss = loss_fn(pred,y)\n",
    "\n",
    "        optimizer.zero_grad()\n",
    "        loss.backward()\n",
    "        optimizer.step()\n",
    "\n",
    "        if batch % print_per_batches ==0:\n",
    "            loss, current = loss.item(), batch*len(X)\n",
    "            print(f\"loss: {loss:>7f}  [{current:>5d}/{size:>5d}]\")\n",
    "\n",
    "def test(dataloader, model, loss_fn):\n",
    "    size = len(dataloader.dataset)\n",
    "    num_batches = len(dataloader)\n",
    "    model.eval()\n",
    "    test_loss, correct = 0, 0\n",
    "    with torch.no_grad():\n",
    "        for batch, (X,y) in enumerate(dataloader):\n",
    "            X, y = X.to(device), y.to(device)\n",
    "            pred = model(X)\n",
    "            loss = loss_fn(pred,y)\n",
    "            test_loss += loss.item()\n",
    "            correct += (pred.argmax(1) == y).type(torch.float).sum().item()\n",
    "    test_loss /= num_batches\n",
    "    correct /= size\n",
    "    print(f\"Test Error: \\n Accuracy: {(100*correct):>0.1f}%, Avg loss: {test_loss:>8f} \\n\")"
   ]
  },
  {
   "cell_type": "markdown",
   "metadata": {},
   "source": [
    "## Training the Model"
   ]
  },
  {
   "cell_type": "code",
   "execution_count": 59,
   "metadata": {},
   "outputs": [],
   "source": [
    "loss_fn = nn.CrossEntropyLoss()\n",
    "optimizer = torch.optim.Adam(model.parameters(), lr = 1e-3)"
   ]
  },
  {
   "cell_type": "code",
   "execution_count": 60,
   "metadata": {},
   "outputs": [],
   "source": [
    "model.train()\n",
    "X, y = next(iter(train_dataloader))\n",
    "pred = model(X.to(device))\n",
    "loss = loss_fn(pred, y.to(device))\n",
    "\n",
    "loss.backward()"
   ]
  },
  {
   "cell_type": "code",
   "execution_count": 62,
   "metadata": {},
   "outputs": [
    {
     "name": "stdout",
     "output_type": "stream",
     "text": [
      "Epoch 1\n",
      "-------------------------------\n",
      "loss: 0.182291  [    0/43374]\n",
      "loss: 0.046150  [ 5000/43374]\n",
      "loss: 0.042056  [10000/43374]\n",
      "loss: 0.004592  [15000/43374]\n",
      "loss: 0.012610  [20000/43374]\n",
      "loss: 0.008226  [25000/43374]\n",
      "loss: 0.067306  [30000/43374]\n",
      "loss: 0.041371  [35000/43374]\n",
      "loss: 0.041528  [40000/43374]\n",
      "Test Error: \n",
      " Accuracy: 97.4%, Avg loss: 0.130582 \n",
      "\n",
      "Epoch 2\n",
      "-------------------------------\n",
      "loss: 0.180515  [    0/43374]\n",
      "loss: 0.038677  [ 5000/43374]\n",
      "loss: 0.033585  [10000/43374]\n",
      "loss: 0.003766  [15000/43374]\n",
      "loss: 0.011529  [20000/43374]\n",
      "loss: 0.008271  [25000/43374]\n",
      "loss: 0.076177  [30000/43374]\n",
      "loss: 0.041988  [35000/43374]\n",
      "loss: 0.034796  [40000/43374]\n",
      "Test Error: \n",
      " Accuracy: 97.2%, Avg loss: 0.147953 \n",
      "\n",
      "Epoch 3\n",
      "-------------------------------\n",
      "loss: 0.182421  [    0/43374]\n",
      "loss: 0.036228  [ 5000/43374]\n",
      "loss: 0.031685  [10000/43374]\n",
      "loss: 0.003179  [15000/43374]\n",
      "loss: 0.011233  [20000/43374]\n",
      "loss: 0.008557  [25000/43374]\n",
      "loss: 0.060539  [30000/43374]\n",
      "loss: 0.030053  [35000/43374]\n",
      "loss: 0.037599  [40000/43374]\n",
      "Test Error: \n",
      " Accuracy: 97.1%, Avg loss: 0.152731 \n",
      "\n",
      "Epoch 4\n",
      "-------------------------------\n",
      "loss: 0.186840  [    0/43374]\n",
      "loss: 0.034921  [ 5000/43374]\n",
      "loss: 0.027025  [10000/43374]\n",
      "loss: 0.003795  [15000/43374]\n",
      "loss: 0.012903  [20000/43374]\n",
      "loss: 0.008644  [25000/43374]\n",
      "loss: 0.069714  [30000/43374]\n",
      "loss: 0.027169  [35000/43374]\n",
      "loss: 0.040063  [40000/43374]\n",
      "Test Error: \n",
      " Accuracy: 97.1%, Avg loss: 0.158566 \n",
      "\n",
      "Epoch 5\n",
      "-------------------------------\n",
      "loss: 0.183912  [    0/43374]\n",
      "loss: 0.033173  [ 5000/43374]\n",
      "loss: 0.030461  [10000/43374]\n",
      "loss: 0.002757  [15000/43374]\n",
      "loss: 0.011472  [20000/43374]\n",
      "loss: 0.009458  [25000/43374]\n",
      "loss: 0.052954  [30000/43374]\n",
      "loss: 0.027686  [35000/43374]\n",
      "loss: 0.036163  [40000/43374]\n",
      "Test Error: \n",
      " Accuracy: 97.1%, Avg loss: 0.162602 \n",
      "\n",
      "Epoch 6\n",
      "-------------------------------\n",
      "loss: 0.190167  [    0/43374]\n",
      "loss: 0.031953  [ 5000/43374]\n",
      "loss: 0.028414  [10000/43374]\n",
      "loss: 0.002814  [15000/43374]\n",
      "loss: 0.011778  [20000/43374]\n",
      "loss: 0.008215  [25000/43374]\n",
      "loss: 0.060853  [30000/43374]\n",
      "loss: 0.028004  [35000/43374]\n",
      "loss: 0.035074  [40000/43374]\n",
      "Test Error: \n",
      " Accuracy: 97.1%, Avg loss: 0.164447 \n",
      "\n",
      "Epoch 7\n",
      "-------------------------------\n",
      "loss: 0.193155  [    0/43374]\n",
      "loss: 0.030888  [ 5000/43374]\n",
      "loss: 0.027047  [10000/43374]\n",
      "loss: 0.002427  [15000/43374]\n",
      "loss: 0.011046  [20000/43374]\n",
      "loss: 0.008394  [25000/43374]\n",
      "loss: 0.049282  [30000/43374]\n",
      "loss: 0.027045  [35000/43374]\n",
      "loss: 0.033724  [40000/43374]\n",
      "Test Error: \n",
      " Accuracy: 97.1%, Avg loss: 0.153519 \n",
      "\n",
      "Epoch 8\n",
      "-------------------------------\n",
      "loss: 0.188380  [    0/43374]\n",
      "loss: 0.030423  [ 5000/43374]\n",
      "loss: 0.026120  [10000/43374]\n",
      "loss: 0.002059  [15000/43374]\n",
      "loss: 0.011313  [20000/43374]\n",
      "loss: 0.008329  [25000/43374]\n",
      "loss: 0.046459  [30000/43374]\n",
      "loss: 0.025779  [35000/43374]\n",
      "loss: 0.035263  [40000/43374]\n",
      "Test Error: \n",
      " Accuracy: 97.2%, Avg loss: 0.167372 \n",
      "\n",
      "Epoch 9\n",
      "-------------------------------\n",
      "loss: 0.192429  [    0/43374]\n",
      "loss: 0.029707  [ 5000/43374]\n",
      "loss: 0.028016  [10000/43374]\n",
      "loss: 0.002065  [15000/43374]\n",
      "loss: 0.011693  [20000/43374]\n",
      "loss: 0.008715  [25000/43374]\n",
      "loss: 0.046847  [30000/43374]\n",
      "loss: 0.025069  [35000/43374]\n",
      "loss: 0.033544  [40000/43374]\n",
      "Test Error: \n",
      " Accuracy: 97.1%, Avg loss: 0.161944 \n",
      "\n",
      "Epoch 10\n",
      "-------------------------------\n",
      "loss: 0.195231  [    0/43374]\n",
      "loss: 0.029482  [ 5000/43374]\n",
      "loss: 0.027808  [10000/43374]\n",
      "loss: 0.001876  [15000/43374]\n",
      "loss: 0.011372  [20000/43374]\n",
      "loss: 0.008442  [25000/43374]\n",
      "loss: 0.044249  [30000/43374]\n",
      "loss: 0.025705  [35000/43374]\n",
      "loss: 0.032945  [40000/43374]\n",
      "Test Error: \n",
      " Accuracy: 97.8%, Avg loss: 0.157219 \n",
      "\n",
      "Epoch 11\n",
      "-------------------------------\n",
      "loss: 0.192604  [    0/43374]\n",
      "loss: 0.029071  [ 5000/43374]\n",
      "loss: 0.027471  [10000/43374]\n",
      "loss: 0.002050  [15000/43374]\n",
      "loss: 0.011405  [20000/43374]\n",
      "loss: 0.008535  [25000/43374]\n",
      "loss: 0.083847  [30000/43374]\n",
      "loss: 0.024272  [35000/43374]\n",
      "loss: 0.029898  [40000/43374]\n",
      "Test Error: \n",
      " Accuracy: 97.8%, Avg loss: 0.128282 \n",
      "\n",
      "Epoch 12\n",
      "-------------------------------\n",
      "loss: 0.175866  [    0/43374]\n",
      "loss: 0.028673  [ 5000/43374]\n",
      "loss: 0.029796  [10000/43374]\n",
      "loss: 0.001654  [15000/43374]\n",
      "loss: 0.011937  [20000/43374]\n",
      "loss: 0.008609  [25000/43374]\n",
      "loss: 0.041205  [30000/43374]\n",
      "loss: 0.028135  [35000/43374]\n",
      "loss: 0.040600  [40000/43374]\n",
      "Test Error: \n",
      " Accuracy: 97.8%, Avg loss: 0.155915 \n",
      "\n",
      "Epoch 13\n",
      "-------------------------------\n",
      "loss: 0.184015  [    0/43374]\n",
      "loss: 0.028435  [ 5000/43374]\n",
      "loss: 0.023701  [10000/43374]\n",
      "loss: 0.001823  [15000/43374]\n",
      "loss: 0.009923  [20000/43374]\n",
      "loss: 0.008609  [25000/43374]\n",
      "loss: 0.043266  [30000/43374]\n",
      "loss: 0.021570  [35000/43374]\n",
      "loss: 0.032334  [40000/43374]\n",
      "Test Error: \n",
      " Accuracy: 97.2%, Avg loss: 0.148246 \n",
      "\n",
      "Epoch 14\n",
      "-------------------------------\n",
      "loss: 0.186508  [    0/43374]\n",
      "loss: 0.028579  [ 5000/43374]\n",
      "loss: 0.027967  [10000/43374]\n",
      "loss: 0.001857  [15000/43374]\n",
      "loss: 0.011802  [20000/43374]\n",
      "loss: 0.008802  [25000/43374]\n",
      "loss: 0.041837  [30000/43374]\n",
      "loss: 0.021746  [35000/43374]\n",
      "loss: 0.031070  [40000/43374]\n",
      "Test Error: \n",
      " Accuracy: 98.0%, Avg loss: 0.143454 \n",
      "\n",
      "Epoch 15\n",
      "-------------------------------\n",
      "loss: 0.171436  [    0/43374]\n",
      "loss: 0.028312  [ 5000/43374]\n",
      "loss: 0.028131  [10000/43374]\n",
      "loss: 0.001891  [15000/43374]\n",
      "loss: 0.011901  [20000/43374]\n",
      "loss: 0.009426  [25000/43374]\n",
      "loss: 0.039640  [30000/43374]\n",
      "loss: 0.018673  [35000/43374]\n",
      "loss: 0.029159  [40000/43374]\n",
      "Test Error: \n",
      " Accuracy: 98.2%, Avg loss: 0.133729 \n",
      "\n",
      "Epoch 16\n",
      "-------------------------------\n",
      "loss: 0.178874  [    0/43374]\n",
      "loss: 0.028185  [ 5000/43374]\n",
      "loss: 0.028570  [10000/43374]\n",
      "loss: 0.001591  [15000/43374]\n",
      "loss: 0.011818  [20000/43374]\n",
      "loss: 0.009067  [25000/43374]\n",
      "loss: 0.039687  [30000/43374]\n",
      "loss: 0.017022  [35000/43374]\n",
      "loss: 0.032321  [40000/43374]\n",
      "Test Error: \n",
      " Accuracy: 98.2%, Avg loss: 0.139506 \n",
      "\n",
      "Epoch 17\n",
      "-------------------------------\n",
      "loss: 0.176420  [    0/43374]\n",
      "loss: 0.028121  [ 5000/43374]\n",
      "loss: 0.026799  [10000/43374]\n",
      "loss: 0.001493  [15000/43374]\n",
      "loss: 0.011726  [20000/43374]\n",
      "loss: 0.009195  [25000/43374]\n",
      "loss: 0.039224  [30000/43374]\n",
      "loss: 0.016834  [35000/43374]\n",
      "loss: 0.031137  [40000/43374]\n",
      "Test Error: \n",
      " Accuracy: 98.3%, Avg loss: 0.132735 \n",
      "\n",
      "Epoch 18\n",
      "-------------------------------\n",
      "loss: 0.164396  [    0/43374]\n",
      "loss: 0.028032  [ 5000/43374]\n",
      "loss: 0.029301  [10000/43374]\n",
      "loss: 0.001458  [15000/43374]\n",
      "loss: 0.012182  [20000/43374]\n",
      "loss: 0.008676  [25000/43374]\n",
      "loss: 0.039052  [30000/43374]\n",
      "loss: 0.016046  [35000/43374]\n",
      "loss: 0.029291  [40000/43374]\n",
      "Test Error: \n",
      " Accuracy: 98.2%, Avg loss: 0.143073 \n",
      "\n",
      "Epoch 19\n",
      "-------------------------------\n",
      "loss: 0.174242  [    0/43374]\n",
      "loss: 0.027990  [ 5000/43374]\n",
      "loss: 0.028487  [10000/43374]\n",
      "loss: 0.001595  [15000/43374]\n",
      "loss: 0.011745  [20000/43374]\n",
      "loss: 0.008789  [25000/43374]\n",
      "loss: 0.038069  [30000/43374]\n",
      "loss: 0.017073  [35000/43374]\n",
      "loss: 0.031313  [40000/43374]\n",
      "Test Error: \n",
      " Accuracy: 98.2%, Avg loss: 0.142634 \n",
      "\n",
      "Epoch 20\n",
      "-------------------------------\n",
      "loss: 0.176320  [    0/43374]\n",
      "loss: 0.027977  [ 5000/43374]\n",
      "loss: 0.029265  [10000/43374]\n",
      "loss: 0.001784  [15000/43374]\n",
      "loss: 0.012199  [20000/43374]\n",
      "loss: 0.009007  [25000/43374]\n",
      "loss: 0.036967  [30000/43374]\n",
      "loss: 0.014881  [35000/43374]\n",
      "loss: 0.031079  [40000/43374]\n",
      "Test Error: \n",
      " Accuracy: 98.2%, Avg loss: 0.136724 \n",
      "\n",
      "Done!\n"
     ]
    }
   ],
   "source": [
    "epochs = 20\n",
    "for t in range(epochs):\n",
    "    print(f\"Epoch {t+1}\\n-------------------------------\")\n",
    "    train(train_dataloader, model, loss_fn, optimizer)\n",
    "    test(test_dataloader, model, loss_fn)\n",
    "print(\"Done!\") "
   ]
  },
  {
   "cell_type": "code",
   "execution_count": null,
   "metadata": {},
   "outputs": [],
   "source": []
  }
 ],
 "metadata": {
  "kernelspec": {
   "display_name": "Python 3.10.6 ('nlp')",
   "language": "python",
   "name": "python3"
  },
  "language_info": {
   "codemirror_mode": {
    "name": "ipython",
    "version": 3
   },
   "file_extension": ".py",
   "mimetype": "text/x-python",
   "name": "python",
   "nbconvert_exporter": "python",
   "pygments_lexer": "ipython3",
   "version": "3.10.6"
  },
  "orig_nbformat": 4,
  "vscode": {
   "interpreter": {
    "hash": "0638b84c441d23f3bf1e5bbb68dbbbae5f508c99744b50e7a508082753ac4090"
   }
  }
 },
 "nbformat": 4,
 "nbformat_minor": 2
}
